{
 "cells": [
  {
   "cell_type": "markdown",
   "id": "3d6734c9",
   "metadata": {},
   "source": [
    "# Importing Required Packages"
   ]
  },
  {
   "cell_type": "code",
   "execution_count": 89,
   "id": "0f70defa",
   "metadata": {},
   "outputs": [],
   "source": [
    "import pandas as pd\n",
    "import numpy as np\n",
    "import matplotlib.pyplot as plt\n",
    "import seaborn as sns"
   ]
  },
  {
   "cell_type": "markdown",
   "id": "25820f21",
   "metadata": {},
   "source": [
    "# Reading Train and Validation CSVs"
   ]
  },
  {
   "cell_type": "code",
   "execution_count": 90,
   "id": "e9f75674",
   "metadata": {},
   "outputs": [],
   "source": [
    "january_data=pd.read_parquet('data/NYCTaxi/ForHire/fhv_tripdata_2021-01.parquet')\n",
    "february_data=pd.read_parquet('data/NYCTaxi/ForHire/fhv_tripdata_2021-02.parquet')"
   ]
  },
  {
   "cell_type": "code",
   "execution_count": 91,
   "id": "019e467c",
   "metadata": {},
   "outputs": [
    {
     "data": {
      "text/plain": [
       "dispatching_base_num              object\n",
       "pickup_datetime           datetime64[ns]\n",
       "dropOff_datetime          datetime64[ns]\n",
       "PUlocationID                     float64\n",
       "DOlocationID                     float64\n",
       "SR_Flag                           object\n",
       "Affiliated_base_number            object\n",
       "dtype: object"
      ]
     },
     "execution_count": 91,
     "metadata": {},
     "output_type": "execute_result"
    }
   ],
   "source": [
    "january_data.dtypes"
   ]
  },
  {
   "cell_type": "markdown",
   "id": "b3a6fd9b",
   "metadata": {},
   "source": [
    "# Data Preparation"
   ]
  },
  {
   "cell_type": "code",
   "execution_count": 92,
   "id": "6f4f06ce",
   "metadata": {},
   "outputs": [],
   "source": [
    "january_data['duration']=january_data['dropOff_datetime']-january_data['pickup_datetime']"
   ]
  },
  {
   "cell_type": "code",
   "execution_count": 93,
   "id": "9408d52e",
   "metadata": {},
   "outputs": [],
   "source": [
    "january_data['duration']=january_data.duration.apply(lambda x : x.total_seconds()/60)"
   ]
  },
  {
   "cell_type": "code",
   "execution_count": 94,
   "id": "681ffa4e",
   "metadata": {},
   "outputs": [
    {
     "data": {
      "text/plain": [
       "19.167224093791006"
      ]
     },
     "execution_count": 94,
     "metadata": {},
     "output_type": "execute_result"
    }
   ],
   "source": [
    "january_data.duration.mean()"
   ]
  },
  {
   "cell_type": "markdown",
   "id": "d0a5d8d2",
   "metadata": {},
   "source": [
    "### Distribution of Target Variable"
   ]
  },
  {
   "cell_type": "code",
   "execution_count": 95,
   "id": "dd1fc547",
   "metadata": {
    "scrolled": true
   },
   "outputs": [
    {
     "name": "stderr",
     "output_type": "stream",
     "text": [
      "/Library/Frameworks/Python.framework/Versions/3.7/lib/python3.7/site-packages/seaborn/distributions.py:2619: FutureWarning: `distplot` is a deprecated function and will be removed in a future version. Please adapt your code to use either `displot` (a figure-level function with similar flexibility) or `histplot` (an axes-level function for histograms).\n",
      "  warnings.warn(msg, FutureWarning)\n"
     ]
    },
    {
     "data": {
      "text/plain": [
       "<AxesSubplot:xlabel='duration', ylabel='Density'>"
      ]
     },
     "execution_count": 95,
     "metadata": {},
     "output_type": "execute_result"
    },
    {
     "data": {
      "image/png": "[encoded data removed]",
      "text/plain": [
       "<Figure size 432x288 with 1 Axes>"
      ]
     },
     "metadata": {
      "needs_background": "light"
     },
     "output_type": "display_data"
    }
   ],
   "source": [
    "sns.distplot(january_data.duration)"
   ]
  },
  {
   "cell_type": "code",
   "execution_count": 96,
   "id": "359c04be",
   "metadata": {},
   "outputs": [
    {
     "data": {
      "text/plain": [
       "count    1.154112e+06\n",
       "mean     1.916722e+01\n",
       "std      3.986922e+02\n",
       "min      1.666667e-02\n",
       "25%      7.766667e+00\n",
       "50%      1.340000e+01\n",
       "75%      2.228333e+01\n",
       "max      4.233710e+05\n",
       "Name: duration, dtype: float64"
      ]
     },
     "execution_count": 96,
     "metadata": {},
     "output_type": "execute_result"
    }
   ],
   "source": [
    "january_data.duration.describe()"
   ]
  },
  {
   "cell_type": "code",
   "execution_count": 97,
   "id": "9f6b56ae",
   "metadata": {},
   "outputs": [],
   "source": [
    "january_data_cleaned=january_data[(january_data.duration>=1) & (january_data.duration<=60)]"
   ]
  },
  {
   "cell_type": "code",
   "execution_count": 98,
   "id": "b1f54a97",
   "metadata": {},
   "outputs": [
    {
     "name": "stdout",
     "output_type": "stream",
     "text": [
      "Shape of uncleaned Data Frame: 1154112\n",
      "Shape of cleaned Data Frame: 1109826\n",
      "Number of Inconsistent records dropped: 44286\n"
     ]
    }
   ],
   "source": [
    "print(f\"Shape of uncleaned Data Frame: {len(january_data)}\")\n",
    "print(f\"Shape of cleaned Data Frame: {len(january_data_cleaned)}\")\n",
    "print(f\"Number of Inconsistent records dropped: {len(january_data)-len(january_data_cleaned)}\")"
   ]
  },
  {
   "cell_type": "code",
   "execution_count": 99,
   "id": "d6a33a8d",
   "metadata": {},
   "outputs": [
    {
     "name": "stderr",
     "output_type": "stream",
     "text": [
      "/Users/tng/Library/Python/3.7/lib/python/site-packages/ipykernel_launcher.py:1: SettingWithCopyWarning: \n",
      "A value is trying to be set on a copy of a slice from a DataFrame.\n",
      "Try using .loc[row_indexer,col_indexer] = value instead\n",
      "\n",
      "See the caveats in the documentation: http://pandas.pydata.org/pandas-docs/stable/indexing.html#indexing-view-versus-copy\n",
      "  \"\"\"Entry point for launching an IPython kernel.\n",
      "/Users/tng/Library/Python/3.7/lib/python/site-packages/ipykernel_launcher.py:2: SettingWithCopyWarning: \n",
      "A value is trying to be set on a copy of a slice from a DataFrame.\n",
      "Try using .loc[row_indexer,col_indexer] = value instead\n",
      "\n",
      "See the caveats in the documentation: http://pandas.pydata.org/pandas-docs/stable/indexing.html#indexing-view-versus-copy\n",
      "  \n"
     ]
    }
   ],
   "source": [
    "january_data_cleaned['PUlocationID']=january_data_cleaned['PUlocationID'].fillna(-1)\n",
    "january_data_cleaned['DOlocationID']=january_data_cleaned['DOlocationID'].fillna(-1)"
   ]
  },
  {
   "cell_type": "code",
   "execution_count": 100,
   "id": "c040b05f",
   "metadata": {},
   "outputs": [
    {
     "name": "stdout",
     "output_type": "stream",
     "text": [
      "Composition of Null values in Pickup Location 83.52732770722618\n"
     ]
    }
   ],
   "source": [
    "print(\"Composition of Null values in Pickup Location\",len(january_data_cleaned[january_data_cleaned['PUlocationID']==-1])/len(january_data_cleaned)*100)"
   ]
  },
  {
   "cell_type": "code",
   "execution_count": 101,
   "id": "d1308c1e",
   "metadata": {},
   "outputs": [],
   "source": [
    "features=['PUlocationID','DOlocationID']"
   ]
  },
  {
   "cell_type": "code",
   "execution_count": 102,
   "id": "e95b9e75",
   "metadata": {},
   "outputs": [
    {
     "name": "stderr",
     "output_type": "stream",
     "text": [
      "/Library/Frameworks/Python.framework/Versions/3.7/lib/python3.7/site-packages/pandas/core/frame.py:3140: SettingWithCopyWarning: \n",
      "A value is trying to be set on a copy of a slice from a DataFrame.\n",
      "Try using .loc[row_indexer,col_indexer] = value instead\n",
      "\n",
      "See the caveats in the documentation: http://pandas.pydata.org/pandas-docs/stable/indexing.html#indexing-view-versus-copy\n",
      "  self[k1] = value[k2]\n"
     ]
    }
   ],
   "source": [
    "january_data_cleaned[features]=january_data_cleaned[categorical].astype(str)"
   ]
  },
  {
   "cell_type": "code",
   "execution_count": 103,
   "id": "889e364a",
   "metadata": {},
   "outputs": [],
   "source": [
    "train_records=january_data_cleaned[features].to_dict(orient='records')"
   ]
  },
  {
   "cell_type": "code",
   "execution_count": 104,
   "id": "d75357cc",
   "metadata": {},
   "outputs": [],
   "source": [
    "from sklearn.feature_extraction import DictVectorizer\n",
    "dictVectorizer=DictVectorizer()\n",
    "x_train=dictVectorizer.fit_transform(train_records)"
   ]
  },
  {
   "cell_type": "code",
   "execution_count": 105,
   "id": "fc451e3b",
   "metadata": {},
   "outputs": [
    {
     "name": "stdout",
     "output_type": "stream",
     "text": [
      "Total Number of Features after One Hot Encoding:  525\n"
     ]
    }
   ],
   "source": [
    "print(\"Total Number of Features after One Hot Encoding: \",len(dictVectorizer.get_feature_names()))"
   ]
  },
  {
   "cell_type": "code",
   "execution_count": 106,
   "id": "81224628",
   "metadata": {},
   "outputs": [],
   "source": [
    "target=january_data_cleaned['duration'].values"
   ]
  },
  {
   "cell_type": "markdown",
   "id": "b43ba1ed",
   "metadata": {},
   "source": [
    "# Training a model"
   ]
  },
  {
   "cell_type": "code",
   "execution_count": 64,
   "id": "9969a11b",
   "metadata": {},
   "outputs": [
    {
     "data": {
      "text/plain": [
       "LinearRegression(copy_X=True, fit_intercept=True, n_jobs=None, normalize=False)"
      ]
     },
     "execution_count": 64,
     "metadata": {},
     "output_type": "execute_result"
    }
   ],
   "source": [
    "from sklearn.linear_model import LinearRegression\n",
    "lr=LinearRegression()\n",
    "lr.fit(x_train,target)"
   ]
  },
  {
   "cell_type": "markdown",
   "id": "1e7a73f4",
   "metadata": {},
   "source": [
    "# Evaluating the model"
   ]
  },
  {
   "cell_type": "code",
   "execution_count": 67,
   "id": "5e61db4a",
   "metadata": {},
   "outputs": [
    {
     "name": "stdout",
     "output_type": "stream",
     "text": [
      "RMSE: 10.528519107204898\n"
     ]
    }
   ],
   "source": [
    "from sklearn.metrics import mean_squared_error\n",
    "y_pred=lr.predict(x_train)\n",
    "print(f\"RMSE: {np.sqrt(mean_squared_error(target,y_pred))}\")"
   ]
  },
  {
   "cell_type": "markdown",
   "id": "e1175f27",
   "metadata": {},
   "source": [
    "# Placing all the code snippets into some meaningful functions "
   ]
  },
  {
   "cell_type": "code",
   "execution_count": 108,
   "id": "ded8c740",
   "metadata": {},
   "outputs": [],
   "source": [
    "import pandas as pd\n",
    "import numpy as np\n",
    "import matplotlib.pyplot as plt\n",
    "import seaborn as sns\n",
    "from sklearn.feature_extraction import DictVectorizer\n",
    "from sklearn.linear_model import LinearRegression\n",
    "from sklearn.metrics import mean_squared_error\n",
    "import warnings\n",
    "warnings.filterwarnings('ignore')"
   ]
  },
  {
   "cell_type": "code",
   "execution_count": 109,
   "id": "e55cb588",
   "metadata": {},
   "outputs": [],
   "source": [
    "def get_and_preprocess_data(filePath,dictVectorizer,mode):\n",
    "    print(f\"Details about file {filePath.split('/')[-1]}\")\n",
    "    data=pd.read_parquet(filePath)\n",
    "    \n",
    "    # Creating a duration feature\n",
    "    data['duration']=data['dropOff_datetime']-data['pickup_datetime']\n",
    "    data['duration']=data.duration.apply(lambda x : x.total_seconds()/60)\n",
    "    \n",
    "    # Information about Distribution of the Target column\n",
    "    print(f\"Mean Duration is {data.duration.mean()}\")\n",
    "    print(\"Distribution of the Duration\")\n",
    "    sns.distplot(january_data.duration)\n",
    "    plt.show()\n",
    "    \n",
    "    # Foucsing on the trips with duration greater than or equal to a minute and less than or equal to an hour\n",
    "    data_cleaned=data[(data.duration>=1) & (data.duration<=60)]\n",
    "    print(f\"Shape of uncleaned data is : {len(data)}\")\n",
    "    print(f\"Shape of cleaned Data is : {len(data_cleaned)}\")\n",
    "    print(f\"Number of Inconsistent records dropped : {len(data)-len(data_cleaned)}\")\n",
    "    \n",
    "    # Handling the Null Values in the PickUp and DropOff Location IDs\n",
    "    data_cleaned['PUlocationID']=data_cleaned['PUlocationID'].fillna(-1)\n",
    "    data_cleaned['DOlocationID']=data_cleaned['DOlocationID'].fillna(-1)\n",
    "    print(f\"Fraction of missing values in Pickup Loaction : \\\n",
    "          {len(data_cleaned[data_cleaned['PUlocationID']==-1])/len(data_cleaned)*100}%\")\n",
    "    print(f\"Fraction of missing values in Drop off Loaction : \\\n",
    "          {len(data_cleaned[data_cleaned['DOlocationID']==-1])/len(data_cleaned)*100}%\")\n",
    "    \n",
    "    # Creating the dictionaries of input features using DictVectorizer\n",
    "    features=['PUlocationID','DOlocationID']\n",
    "    data_cleaned[features]=data_cleaned[categorical].astype(str)\n",
    "    train_dicts=data_cleaned[features].to_dict(orient='records')\n",
    "    target=data_cleaned['duration'].values\n",
    "    \n",
    "    # Returning X_train and Y_train or X_test and Y_test based on the argument 'mode'\n",
    "    if mode=='train':\n",
    "        x_train=dictVectorizer.fit_transform(train_dicts)\n",
    "        print(f\"Total number of Features : {len(dictVectorizer.get_feature_names())}\")\n",
    "        return dictVectorizer,x_train,target\n",
    "    elif mode=='test':\n",
    "        x_test=dictVectorizer.transform(train_dicts)\n",
    "        print(f\"Total number of Features : {len(dictVectorizer.get_feature_names())}\")\n",
    "        return x_test,target"
   ]
  },
  {
   "cell_type": "code",
   "execution_count": 110,
   "id": "a64ef981",
   "metadata": {},
   "outputs": [],
   "source": [
    "def train_and_evaluate_model(model,trainFilePath,testFilePath):\n",
    "    print(model)\n",
    "    \n",
    "    print(\"preparing data for training the model\")\n",
    "    dv,x_train,y_train=get_and_preprocess_data(trainFilePath,DictVectorizer(),'train')\n",
    "    \n",
    "    print(\"preparing data for testing the model\")\n",
    "    x_test,y_test=get_and_preprocess_data(testFilePath,dv,'test')\n",
    "    \n",
    "    # Fitting the model with train data\n",
    "    model.fit(x_train,y_train)\n",
    "    \n",
    "    # Making Prediction on the test\n",
    "    y_pred=model.predict(x_test)\n",
    "    \n",
    "    # Printing Root Mean Squared Error of the prediction\n",
    "    print(f\"RMSE: {np.sqrt(mean_squared_error(y_test,y_pred))}\")\n",
    "    return model"
   ]
  },
  {
   "cell_type": "code",
   "execution_count": 111,
   "id": "95743081",
   "metadata": {},
   "outputs": [
    {
     "name": "stdout",
     "output_type": "stream",
     "text": [
      "LinearRegression(copy_X=True, fit_intercept=True, n_jobs=None, normalize=False)\n",
      "preparing data for training the model\n",
      "Details about file fhv_tripdata_2021-01.parquet\n",
      "Mean Duration is 19.167224093791006\n",
      "Distribution of the Duration\n"
     ]
    },
    {
     "data": {
      "image/png": "[encoded data removed]",
      "text/plain": [
       "<Figure size 432x288 with 1 Axes>"
      ]
     },
     "metadata": {
      "needs_background": "light"
     },
     "output_type": "display_data"
    },
    {
     "name": "stdout",
     "output_type": "stream",
     "text": [
      "Shape of uncleaned data is : 1154112\n",
      "Shape of cleaned Data is : 1109826\n",
      "Number of Inconsistent records dropped : 44286\n",
      "Fraction of missing values in Pickup Loaction :           83.52732770722618%\n",
      "Fraction of missing values in Drop off Loaction :           13.327044059158824%\n",
      "Total number of Features : 525\n",
      "preparing data for testing the model\n",
      "Details about file fhv_tripdata_2021-02.parquet\n",
      "Mean Duration is 20.706986225199763\n",
      "Distribution of the Duration\n"
     ]
    },
    {
     "data": {
      "image/png": "[encoded data removed]",
      "text/plain": [
       "<Figure size 432x288 with 1 Axes>"
      ]
     },
     "metadata": {
      "needs_background": "light"
     },
     "output_type": "display_data"
    },
    {
     "name": "stdout",
     "output_type": "stream",
     "text": [
      "Shape of uncleaned data is : 1037692\n",
      "Shape of cleaned Data is : 990113\n",
      "Number of Inconsistent records dropped : 47579\n",
      "Fraction of missing values in Pickup Loaction :           85.71354986754038%\n",
      "Fraction of missing values in Drop off Loaction :           13.610567682678642%\n",
      "Total number of Features : 525\n",
      "RMSE: 11.014283144669959\n"
     ]
    }
   ],
   "source": [
    "trained_model=train_and_evaluate_model(LinearRegression(),'data/NYCTaxi/ForHire/fhv_tripdata_2021-01.parquet',\n",
    "                                      'data/NYCTaxi/ForHire/fhv_tripdata_2021-02.parquet')"
   ]
  },
  {
   "cell_type": "code",
   "execution_count": null,
   "id": "8dab1e01",
   "metadata": {},
   "outputs": [],
   "source": []
  }
 ],
 "metadata": {
  "kernelspec": {
   "display_name": "Python 3 (ipykernel)",
   "language": "python",
   "name": "python3"
  },
  "language_info": {
   "codemirror_mode": {
    "name": "ipython",
    "version": 3
   },
   "file_extension": ".py",
   "mimetype": "text/x-python",
   "name": "python",
   "nbconvert_exporter": "python",
   "pygments_lexer": "ipython3",
   "version": "3.7.2"
  }
 },
 "nbformat": 4,
 "nbformat_minor": 5
}
